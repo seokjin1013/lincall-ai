{
 "cells": [
  {
   "cell_type": "code",
   "execution_count": 2,
   "metadata": {},
   "outputs": [
    {
     "name": "stderr",
     "output_type": "stream",
     "text": [
      "d:\\Coding\\lincall-ai\\.venv\\lib\\site-packages\\tqdm\\auto.py:22: TqdmWarning: IProgress not found. Please update jupyter and ipywidgets. See https://ipywidgets.readthedocs.io/en/stable/user_install.html\n",
      "  from .autonotebook import tqdm as notebook_tqdm\n",
      "2022-11-29 21:16:18 | INFO | fairseq.tasks.text_to_speech | Please install tensorboardX: pip install tensorboardX\n",
      "You passed along `num_labels=3` with an incompatible id to label map: {'0': 'NEGATIVE', '1': 'POSITIVE'}. The number of labels wil be overwritten to 2.\n"
     ]
    }
   ],
   "source": [
    "from Summary import Summary\n",
    "from mecab import MeCab\n",
    "\n",
    "class Keyword:\n",
    "    mecab = MeCab()\n",
    "    def __new__(cls, sent, **kwargs):\n",
    "        summary = Summary(sent)\n",
    "        summary_words = set(cls.mecab.common_nouns(summary))\n",
    "        original_words = set(cls.mecab.morphs(sent))\n",
    "        return ' '.join(summary_words & original_words)"
   ]
  },
  {
   "cell_type": "code",
   "execution_count": 3,
   "metadata": {},
   "outputs": [
    {
     "data": {
      "text/plain": [
       "''"
      ]
     },
     "execution_count": 3,
     "metadata": {},
     "output_type": "execute_result"
    }
   ],
   "source": [
    "Keyword(\"\"\"개 화나네요\"\"\")"
   ]
  },
  {
   "cell_type": "code",
   "execution_count": 1,
   "metadata": {},
   "outputs": [
    {
     "data": {
      "text/plain": [
       "''"
      ]
     },
     "execution_count": 1,
     "metadata": {},
     "output_type": "execute_result"
    }
   ],
   "source": [
    "' '.join(set())"
   ]
  },
  {
   "cell_type": "code",
   "execution_count": 6,
   "metadata": {},
   "outputs": [
    {
     "data": {
      "text/plain": [
       "[('아', 'IC'),\n",
       " ('그러', 'VV'),\n",
       " ('셨', 'EP+EP'),\n",
       " ('군요', 'EF'),\n",
       " ('고객', 'NNG'),\n",
       " ('님', 'XSN'),\n",
       " ('혹시', 'MAG'),\n",
       " ('제', 'NP'),\n",
       " ('가', 'JKS'),\n",
       " ('도움', 'NNG'),\n",
       " ('을', 'JKO'),\n",
       " ('드릴', 'VV+ETM'),\n",
       " ('수', 'NNB'),\n",
       " ('있', 'VV'),\n",
       " ('는', 'ETM'),\n",
       " ('게', 'NNB+JKS'),\n",
       " ('있', 'VA'),\n",
       " ('을까요', 'EC')]"
      ]
     },
     "execution_count": 6,
     "metadata": {},
     "output_type": "execute_result"
    }
   ],
   "source": [
    "from mecab import MeCab\n",
    "\n",
    "mecab = MeCab()\n",
    "mecab.pos(\"\"\"아 그러셨군요 고객님 혹시 제가 도움을 드릴 수 있는게 있을까요\"\"\")"
   ]
  }
 ],
 "metadata": {
  "kernelspec": {
   "display_name": "Python 3.7.9 ('.venv': venv)",
   "language": "python",
   "name": "python3"
  },
  "language_info": {
   "codemirror_mode": {
    "name": "ipython",
    "version": 3
   },
   "file_extension": ".py",
   "mimetype": "text/x-python",
   "name": "python",
   "nbconvert_exporter": "python",
   "pygments_lexer": "ipython3",
   "version": "3.7.9"
  },
  "orig_nbformat": 4,
  "vscode": {
   "interpreter": {
    "hash": "4c45a5d2cedf03315b605f781a38921e17d7dbdeb292664a5e6f38421aada0de"
   }
  }
 },
 "nbformat": 4,
 "nbformat_minor": 2
}
