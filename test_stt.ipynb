{
 "cells": [
  {
   "cell_type": "code",
   "execution_count": 15,
   "metadata": {},
   "outputs": [],
   "source": [
    "def revise(sentence):\n",
    "    words = sentence.split()\n",
    "    result = []\n",
    "    for word in words:\n",
    "        tmp = word[0] + ''.join([word[i] for i in range(1, len(word)) if word[i] != word[i - 1]])\n",
    "        if tmp == '스로':\n",
    "            tmp = '스스로'\n",
    "        result.append(tmp)\n",
    "    return ' '.join(result)"
   ]
  },
  {
   "cell_type": "code",
   "execution_count": 16,
   "metadata": {},
   "outputs": [
    {
     "data": {
      "text/plain": [
       "'숙문을 취소하고 싶은데 가게 사장님 높서 전화를로 안 받아요.'"
      ]
     },
     "execution_count": 16,
     "metadata": {},
     "output_type": "execute_result"
    }
   ],
   "source": [
    "revise('숙문을 취소하고  싶은데  가게  사장님 높서  전화를로 안안  받아요.')"
   ]
  }
 ],
 "metadata": {
  "kernelspec": {
   "display_name": "Python 3.7.9 ('.venv': venv)",
   "language": "python",
   "name": "python3"
  },
  "language_info": {
   "codemirror_mode": {
    "name": "ipython",
    "version": 3
   },
   "file_extension": ".py",
   "mimetype": "text/x-python",
   "name": "python",
   "nbconvert_exporter": "python",
   "pygments_lexer": "ipython3",
   "version": "3.7.9"
  },
  "orig_nbformat": 4,
  "vscode": {
   "interpreter": {
    "hash": "7e96ec10fa3cbf8a37335620f14fcd6e180ccf05531c1e35ff4418264d7a3f68"
   }
  }
 },
 "nbformat": 4,
 "nbformat_minor": 2
}
