{
 "cells": [
  {
   "cell_type": "code",
   "execution_count": 52,
   "metadata": {},
   "outputs": [],
   "source": [
    "from wordcloud import WordCloud\n",
    "from collections import Counter\n",
    "from mecab import MeCab\n",
    "from base64 import b64encode\n",
    "import matplotlib as mpl\n",
    "from matplotlib.colors import ListedColormap\n",
    "import numpy as np\n",
    "\n",
    "class Wordcloud:\n",
    "    wc = {}\n",
    "    wc['base'] = WordCloud(font_path='malgun', width=326, height=178, scale=2.0, max_font_size=50, background_color=\"rgba(255, 255, 255, 0)\", mode=\"RGBA\")\n",
    "    wc['dark'] = WordCloud(font_path='malgun', width=326, height=178, scale=2.0, max_font_size=50, background_color=\"rgba(255, 255, 255, 0)\", mode=\"RGBA\", colormap=ListedColormap(mpl.colormaps['gray'](np.linspace(0, 0.5, 128))), prefer_horizontal=1)\n",
    "    wc['tab20c'] = WordCloud(font_path='malgun', width=326, height=178, scale=2.0, max_font_size=50, background_color=\"rgba(255, 255, 255, 0)\", mode=\"RGBA\", colormap=mpl.colormaps['tab20c'])\n",
    "    mecab = MeCab('C:\\mecab\\mecab-ko-dic')\n",
    "    def __new__(cls, text, theme):\n",
    "        text = cls.mecab.nouns(text)\n",
    "        cls.wc[theme].generate_from_frequencies(Counter(text) or Counter(' '))\n",
    "        cls.wc[theme].to_file('tmp_wordcloud.png')\n",
    "        return b64encode(open(\"tmp_wordcloud.png\", \"rb\").read())\n"
   ]
  },
  {
   "cell_type": "code",
   "execution_count": 50,
   "metadata": {},
   "outputs": [
    {
     "data": {
      "text/plain": [
       "Counter({' ': 1})"
      ]
     },
     "execution_count": 50,
     "metadata": {},
     "output_type": "execute_result"
    }
   ],
   "source": [
    "Counter(' ')"
   ]
  },
  {
   "cell_type": "code",
   "execution_count": 54,
   "metadata": {},
   "outputs": [
    {
     "data": {
      "text/plain": [
       "b'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'"
      ]
     },
     "execution_count": 54,
     "metadata": {},
     "output_type": "execute_result"
    }
   ],
   "source": [
    "Wordcloud(\"\"\"20년\"\"\", 'tab20c')"
   ]
  },
  {
   "cell_type": "code",
   "execution_count": null,
   "metadata": {},
   "outputs": [],
   "source": []
  }
 ],
 "metadata": {
  "kernelspec": {
   "display_name": "Python 3.7.9 ('.venv': venv)",
   "language": "python",
   "name": "python3"
  },
  "language_info": {
   "codemirror_mode": {
    "name": "ipython",
    "version": 3
   },
   "file_extension": ".py",
   "mimetype": "text/x-python",
   "name": "python",
   "nbconvert_exporter": "python",
   "pygments_lexer": "ipython3",
   "version": "3.7.9"
  },
  "orig_nbformat": 4,
  "vscode": {
   "interpreter": {
    "hash": "4c45a5d2cedf03315b605f781a38921e17d7dbdeb292664a5e6f38421aada0de"
   }
  }
 },
 "nbformat": 4,
 "nbformat_minor": 2
}
